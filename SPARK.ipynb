{
  "cells": [
    {
      "cell_type": "markdown",
      "metadata": {
        "id": "view-in-github",
        "colab_type": "text"
      },
      "source": [
        "<a href=\"https://colab.research.google.com/github/RITESHKATTA/Spark-Foundation-2/blob/main/SPARK.ipynb\" target=\"_parent\"><img src=\"https://colab.research.google.com/assets/colab-badge.svg\" alt=\"Open In Colab\"/></a>"
      ]
    },
    {
      "cell_type": "markdown",
      "metadata": {
        "id": "dvfD5VRh8rpo"
      },
      "source": [
        "# TASK 2 \n"
      ]
    },
    {
      "cell_type": "code",
      "execution_count": null,
      "metadata": {
        "id": "Q_CDd89S8rp0"
      },
      "outputs": [],
      "source": [
        ""
      ]
    },
    {
      "cell_type": "markdown",
      "metadata": {
        "id": "liy1ftSg8rp2"
      },
      "source": [
        "## Graduate Rotational Internship Program (GRIP) The Spark Foundation"
      ]
    },
    {
      "cell_type": "markdown",
      "metadata": {
        "id": "3DlNWrFf8rp3"
      },
      "source": [
        "## TASK 2 Data science and Business Analysis"
      ]
    },
    {
      "cell_type": "markdown",
      "metadata": {
        "id": "r4xX2vlT8rp4"
      },
      "source": [
        "## Exploratory Data Analysis - RETAIL"
      ]
    },
    {
      "cell_type": "markdown",
      "metadata": {
        "id": "UGnJmTFC8rp5"
      },
      "source": [
        "# ##Problem Statement: To Find out the weak areas where the store losses its income."
      ]
    },
    {
      "cell_type": "markdown",
      "metadata": {
        "id": "vt4Wgef18rp6"
      },
      "source": [
        "### RITESH KATTA July_2022"
      ]
    },
    {
      "cell_type": "markdown",
      "metadata": {
        "id": "fa5Gqp5q8rp7"
      },
      "source": [
        "#### Importing all the necessary libraries to do the analysis on the datasets "
      ]
    },
    {
      "cell_type": "code",
      "execution_count": null,
      "metadata": {
        "id": "IwRliOd88rp8"
      },
      "outputs": [],
      "source": [
        "import pandas as pd\n",
        "import numpy as np\n",
        "import matplotlib.pyplot as pltcc\n",
        "import seaborn as sns"
      ]
    },
    {
      "cell_type": "code",
      "execution_count": null,
      "metadata": {
        "id": "TTZARv_28rp-",
        "outputId": "958ddad1-3595-459e-908f-070a05d15251"
      },
      "outputs": [
        {
          "name": "stdout",
          "output_type": "stream",
          "text": [
            "C:\\Users\\iiit\n"
          ]
        }
      ],
      "source": [
        "cd"
      ]
    },
    {
      "cell_type": "code",
      "execution_count": null,
      "metadata": {
        "id": "XbxWOEDq8rqB",
        "outputId": "b8c1bfbc-7864-4936-aa40-1dd7ac1f909d"
      },
      "outputs": [
        {
          "data": {
            "text/html": [
              "<div>\n",
              "<style scoped>\n",
              "    .dataframe tbody tr th:only-of-type {\n",
              "        vertical-align: middle;\n",
              "    }\n",
              "\n",
              "    .dataframe tbody tr th {\n",
              "        vertical-align: top;\n",
              "    }\n",
              "\n",
              "    .dataframe thead th {\n",
              "        text-align: right;\n",
              "    }\n",
              "</style>\n",
              "<table border=\"1\" class=\"dataframe\">\n",
              "  <thead>\n",
              "    <tr style=\"text-align: right;\">\n",
              "      <th></th>\n",
              "      <th>Ship Mode</th>\n",
              "      <th>Segment</th>\n",
              "      <th>Country</th>\n",
              "      <th>City</th>\n",
              "      <th>State</th>\n",
              "      <th>Postal Code</th>\n",
              "      <th>Region</th>\n",
              "      <th>Category</th>\n",
              "      <th>Sub-Category</th>\n",
              "      <th>Sales</th>\n",
              "      <th>Quantity</th>\n",
              "      <th>Discount</th>\n",
              "      <th>Profit</th>\n",
              "    </tr>\n",
              "  </thead>\n",
              "  <tbody>\n",
              "    <tr>\n",
              "      <td>0</td>\n",
              "      <td>Second Class</td>\n",
              "      <td>Consumer</td>\n",
              "      <td>United States</td>\n",
              "      <td>Henderson</td>\n",
              "      <td>Kentucky</td>\n",
              "      <td>42420</td>\n",
              "      <td>South</td>\n",
              "      <td>Furniture</td>\n",
              "      <td>Bookcases</td>\n",
              "      <td>261.9600</td>\n",
              "      <td>2</td>\n",
              "      <td>0.00</td>\n",
              "      <td>41.9136</td>\n",
              "    </tr>\n",
              "    <tr>\n",
              "      <td>1</td>\n",
              "      <td>Second Class</td>\n",
              "      <td>Consumer</td>\n",
              "      <td>United States</td>\n",
              "      <td>Henderson</td>\n",
              "      <td>Kentucky</td>\n",
              "      <td>42420</td>\n",
              "      <td>South</td>\n",
              "      <td>Furniture</td>\n",
              "      <td>Chairs</td>\n",
              "      <td>731.9400</td>\n",
              "      <td>3</td>\n",
              "      <td>0.00</td>\n",
              "      <td>219.5820</td>\n",
              "    </tr>\n",
              "    <tr>\n",
              "      <td>2</td>\n",
              "      <td>Second Class</td>\n",
              "      <td>Corporate</td>\n",
              "      <td>United States</td>\n",
              "      <td>Los Angeles</td>\n",
              "      <td>California</td>\n",
              "      <td>90036</td>\n",
              "      <td>West</td>\n",
              "      <td>Office Supplies</td>\n",
              "      <td>Labels</td>\n",
              "      <td>14.6200</td>\n",
              "      <td>2</td>\n",
              "      <td>0.00</td>\n",
              "      <td>6.8714</td>\n",
              "    </tr>\n",
              "    <tr>\n",
              "      <td>3</td>\n",
              "      <td>Standard Class</td>\n",
              "      <td>Consumer</td>\n",
              "      <td>United States</td>\n",
              "      <td>Fort Lauderdale</td>\n",
              "      <td>Florida</td>\n",
              "      <td>33311</td>\n",
              "      <td>South</td>\n",
              "      <td>Furniture</td>\n",
              "      <td>Tables</td>\n",
              "      <td>957.5775</td>\n",
              "      <td>5</td>\n",
              "      <td>0.45</td>\n",
              "      <td>-383.0310</td>\n",
              "    </tr>\n",
              "    <tr>\n",
              "      <td>4</td>\n",
              "      <td>Standard Class</td>\n",
              "      <td>Consumer</td>\n",
              "      <td>United States</td>\n",
              "      <td>Fort Lauderdale</td>\n",
              "      <td>Florida</td>\n",
              "      <td>33311</td>\n",
              "      <td>South</td>\n",
              "      <td>Office Supplies</td>\n",
              "      <td>Storage</td>\n",
              "      <td>22.3680</td>\n",
              "      <td>2</td>\n",
              "      <td>0.20</td>\n",
              "      <td>2.5164</td>\n",
              "    </tr>\n",
              "  </tbody>\n",
              "</table>\n",
              "</div>"
            ],
            "text/plain": [
              "        Ship Mode    Segment        Country             City       State  \\\n",
              "0    Second Class   Consumer  United States        Henderson    Kentucky   \n",
              "1    Second Class   Consumer  United States        Henderson    Kentucky   \n",
              "2    Second Class  Corporate  United States      Los Angeles  California   \n",
              "3  Standard Class   Consumer  United States  Fort Lauderdale     Florida   \n",
              "4  Standard Class   Consumer  United States  Fort Lauderdale     Florida   \n",
              "\n",
              "   Postal Code Region         Category Sub-Category     Sales  Quantity  \\\n",
              "0        42420  South        Furniture    Bookcases  261.9600         2   \n",
              "1        42420  South        Furniture       Chairs  731.9400         3   \n",
              "2        90036   West  Office Supplies       Labels   14.6200         2   \n",
              "3        33311  South        Furniture       Tables  957.5775         5   \n",
              "4        33311  South  Office Supplies      Storage   22.3680         2   \n",
              "\n",
              "   Discount    Profit  \n",
              "0      0.00   41.9136  \n",
              "1      0.00  219.5820  \n",
              "2      0.00    6.8714  \n",
              "3      0.45 -383.0310  \n",
              "4      0.20    2.5164  "
            ]
          },
          "execution_count": 3,
          "metadata": {},
          "output_type": "execute_result"
        }
      ],
      "source": [
        "sam_data = pd.read_csv(\"SampleSuperstore.csv\")\n",
        "sam_data.head()"
      ]
    },
    {
      "cell_type": "code",
      "execution_count": null,
      "metadata": {
        "id": "mJ7oCXJ18rqD"
      },
      "outputs": [],
      "source": [
        "import warnings\n",
        "warnings.filterwarnings('ignore')\n"
      ]
    },
    {
      "cell_type": "markdown",
      "metadata": {
        "id": "hYP6XNK28rqF"
      },
      "source": [
        "Our dataset contains 9994 rows and 13 columns"
      ]
    },
    {
      "cell_type": "code",
      "execution_count": null,
      "metadata": {
        "id": "fKx9tLLd8rqG",
        "outputId": "394f7ec4-60d7-4d6b-ba35-5025d28093e9"
      },
      "outputs": [
        {
          "data": {
            "text/plain": [
              "(9994, 13)"
            ]
          },
          "execution_count": 5,
          "metadata": {},
          "output_type": "execute_result"
        }
      ],
      "source": [
        "sam_data.shape"
      ]
    },
    {
      "cell_type": "markdown",
      "metadata": {
        "id": "zsPhW5Fe8rqH"
      },
      "source": [
        "some aggregates of the dataset"
      ]
    },
    {
      "cell_type": "code",
      "execution_count": null,
      "metadata": {
        "id": "wdlOZ58v8rqI",
        "outputId": "78721d32-c114-4424-82f7-6775249c0675"
      },
      "outputs": [
        {
          "data": {
            "text/html": [
              "<div>\n",
              "<style scoped>\n",
              "    .dataframe tbody tr th:only-of-type {\n",
              "        vertical-align: middle;\n",
              "    }\n",
              "\n",
              "    .dataframe tbody tr th {\n",
              "        vertical-align: top;\n",
              "    }\n",
              "\n",
              "    .dataframe thead th {\n",
              "        text-align: right;\n",
              "    }\n",
              "</style>\n",
              "<table border=\"1\" class=\"dataframe\">\n",
              "  <thead>\n",
              "    <tr style=\"text-align: right;\">\n",
              "      <th></th>\n",
              "      <th>Postal Code</th>\n",
              "      <th>Sales</th>\n",
              "      <th>Quantity</th>\n",
              "      <th>Discount</th>\n",
              "      <th>Profit</th>\n",
              "    </tr>\n",
              "  </thead>\n",
              "  <tbody>\n",
              "    <tr>\n",
              "      <td>count</td>\n",
              "      <td>9994.000000</td>\n",
              "      <td>9994.000000</td>\n",
              "      <td>9994.000000</td>\n",
              "      <td>9994.000000</td>\n",
              "      <td>9994.000000</td>\n",
              "    </tr>\n",
              "    <tr>\n",
              "      <td>mean</td>\n",
              "      <td>55190.379428</td>\n",
              "      <td>229.858001</td>\n",
              "      <td>3.789574</td>\n",
              "      <td>0.156203</td>\n",
              "      <td>28.656896</td>\n",
              "    </tr>\n",
              "    <tr>\n",
              "      <td>std</td>\n",
              "      <td>32063.693350</td>\n",
              "      <td>623.245101</td>\n",
              "      <td>2.225110</td>\n",
              "      <td>0.206452</td>\n",
              "      <td>234.260108</td>\n",
              "    </tr>\n",
              "    <tr>\n",
              "      <td>min</td>\n",
              "      <td>1040.000000</td>\n",
              "      <td>0.444000</td>\n",
              "      <td>1.000000</td>\n",
              "      <td>0.000000</td>\n",
              "      <td>-6599.978000</td>\n",
              "    </tr>\n",
              "    <tr>\n",
              "      <td>25%</td>\n",
              "      <td>23223.000000</td>\n",
              "      <td>17.280000</td>\n",
              "      <td>2.000000</td>\n",
              "      <td>0.000000</td>\n",
              "      <td>1.728750</td>\n",
              "    </tr>\n",
              "    <tr>\n",
              "      <td>50%</td>\n",
              "      <td>56430.500000</td>\n",
              "      <td>54.490000</td>\n",
              "      <td>3.000000</td>\n",
              "      <td>0.200000</td>\n",
              "      <td>8.666500</td>\n",
              "    </tr>\n",
              "    <tr>\n",
              "      <td>75%</td>\n",
              "      <td>90008.000000</td>\n",
              "      <td>209.940000</td>\n",
              "      <td>5.000000</td>\n",
              "      <td>0.200000</td>\n",
              "      <td>29.364000</td>\n",
              "    </tr>\n",
              "    <tr>\n",
              "      <td>max</td>\n",
              "      <td>99301.000000</td>\n",
              "      <td>22638.480000</td>\n",
              "      <td>14.000000</td>\n",
              "      <td>0.800000</td>\n",
              "      <td>8399.976000</td>\n",
              "    </tr>\n",
              "  </tbody>\n",
              "</table>\n",
              "</div>"
            ],
            "text/plain": [
              "        Postal Code         Sales     Quantity     Discount       Profit\n",
              "count   9994.000000   9994.000000  9994.000000  9994.000000  9994.000000\n",
              "mean   55190.379428    229.858001     3.789574     0.156203    28.656896\n",
              "std    32063.693350    623.245101     2.225110     0.206452   234.260108\n",
              "min     1040.000000      0.444000     1.000000     0.000000 -6599.978000\n",
              "25%    23223.000000     17.280000     2.000000     0.000000     1.728750\n",
              "50%    56430.500000     54.490000     3.000000     0.200000     8.666500\n",
              "75%    90008.000000    209.940000     5.000000     0.200000    29.364000\n",
              "max    99301.000000  22638.480000    14.000000     0.800000  8399.976000"
            ]
          },
          "execution_count": 6,
          "metadata": {},
          "output_type": "execute_result"
        }
      ],
      "source": [
        "sam_data.describe()"
      ]
    },
    {
      "cell_type": "markdown",
      "metadata": {
        "id": "q1oOIv418rqJ"
      },
      "source": [
        "To know the complete info about the dataset."
      ]
    },
    {
      "cell_type": "code",
      "execution_count": null,
      "metadata": {
        "id": "s2XM65uP8rqK",
        "outputId": "40ca08f9-4123-4a98-c672-ac0de349a236"
      },
      "outputs": [
        {
          "name": "stdout",
          "output_type": "stream",
          "text": [
            "<class 'pandas.core.frame.DataFrame'>\n",
            "RangeIndex: 9994 entries, 0 to 9993\n",
            "Data columns (total 13 columns):\n",
            "Ship Mode       9994 non-null object\n",
            "Segment         9994 non-null object\n",
            "Country         9994 non-null object\n",
            "City            9994 non-null object\n",
            "State           9994 non-null object\n",
            "Postal Code     9994 non-null int64\n",
            "Region          9994 non-null object\n",
            "Category        9994 non-null object\n",
            "Sub-Category    9994 non-null object\n",
            "Sales           9994 non-null float64\n",
            "Quantity        9994 non-null int64\n",
            "Discount        9994 non-null float64\n",
            "Profit          9994 non-null float64\n",
            "dtypes: float64(3), int64(2), object(8)\n",
            "memory usage: 1015.1+ KB\n"
          ]
        }
      ],
      "source": [
        "sam_data.info()"
      ]
    },
    {
      "cell_type": "code",
      "execution_count": null,
      "metadata": {
        "id": "DcrVm_Ql8rqL",
        "outputId": "d5b7ebda-dde8-42ff-913f-315ba80f37e9"
      },
      "outputs": [
        {
          "data": {
            "text/plain": [
              "Index(['Ship Mode', 'Segment', 'Country', 'City', 'State', 'Postal Code',\n",
              "       'Region', 'Category', 'Sub-Category', 'Sales', 'Quantity', 'Discount',\n",
              "       'Profit'],\n",
              "      dtype='object')"
            ]
          },
          "execution_count": 8,
          "metadata": {},
          "output_type": "execute_result"
        }
      ],
      "source": [
        "sam_data.columns"
      ]
    },
    {
      "cell_type": "code",
      "execution_count": null,
      "metadata": {
        "id": "9vCuPWmV8rqM",
        "outputId": "7525c31c-ee83-490d-dbd7-bbdd98fc1b05"
      },
      "outputs": [
        {
          "data": {
            "text/plain": [
              "Ship Mode          4\n",
              "Segment            3\n",
              "Country            1\n",
              "City             531\n",
              "State             49\n",
              "Postal Code      631\n",
              "Region             4\n",
              "Category           3\n",
              "Sub-Category      17\n",
              "Sales           5825\n",
              "Quantity          14\n",
              "Discount          12\n",
              "Profit          7287\n",
              "dtype: int64"
            ]
          },
          "execution_count": 9,
          "metadata": {},
          "output_type": "execute_result"
        }
      ],
      "source": [
        "sam_data.nunique()"
      ]
    },
    {
      "cell_type": "markdown",
      "metadata": {
        "id": "QyH1_YEU8rqN"
      },
      "source": [
        "As of now there is no null values in the dataset so that we can go through the further analysis of the data on the dataset."
      ]
    },
    {
      "cell_type": "code",
      "execution_count": null,
      "metadata": {
        "id": "gOMs13MG8rqN",
        "outputId": "a91faf93-701d-4327-a491-06ee0d78442f"
      },
      "outputs": [
        {
          "name": "stdout",
          "output_type": "stream",
          "text": [
            "Sales: 2297200.8603\n",
            "Profit: 286397.0217\n"
          ]
        }
      ],
      "source": [
        "# Here is the sum of sales and profits\n",
        "\n",
        "print('Sales:' ,sam_data['Sales'].sum())\n",
        "print('Profit:' ,sam_data['Profit'].sum())"
      ]
    },
    {
      "cell_type": "markdown",
      "metadata": {
        "id": "n4R6SNLW8rqO"
      },
      "source": [
        "To do the analysis we need to figure out the sales and profits of the store. Every column is to be linked with this data"
      ]
    },
    {
      "cell_type": "code",
      "execution_count": null,
      "metadata": {
        "id": "P7cU7K-q8rqP",
        "outputId": "130fe1bc-8cba-4a0e-d5f6-3ec9b1bcb088"
      },
      "outputs": [
        {
          "data": {
            "text/plain": [
              "17"
            ]
          },
          "execution_count": 11,
          "metadata": {},
          "output_type": "execute_result"
        }
      ],
      "source": [
        "# To check whether we have any duplicacy in  Dataset or not \n",
        "\n",
        "sam_data.duplicated().sum()"
      ]
    },
    {
      "cell_type": "markdown",
      "metadata": {
        "id": "xy3TrLFf8rqQ"
      },
      "source": [
        "Duplicate entries can ruin the split between train, validation and test sets in cases where identical entries are not all in the same set.This can lead to biased performance estimates that will lead to disappointing models in production"
      ]
    },
    {
      "cell_type": "code",
      "execution_count": null,
      "metadata": {
        "id": "tZKjMiDy8rqR"
      },
      "outputs": [],
      "source": [
        "# we need to drop the duplicates inorder to move with the further analysis\n",
        "\n",
        "sam_data = sam_data.drop_duplicates()"
      ]
    },
    {
      "cell_type": "markdown",
      "metadata": {
        "id": "I4luiOWj8rqS"
      },
      "source": [
        "After removing the dulicate values the dataset contains 9977 rows and 13 columns out of (9994,13)"
      ]
    },
    {
      "cell_type": "code",
      "execution_count": null,
      "metadata": {
        "id": "dfiOipFh8rqU",
        "outputId": "818e727c-5d84-46cc-fc8a-3549a00fcd50"
      },
      "outputs": [
        {
          "data": {
            "text/plain": [
              "(9977, 13)"
            ]
          },
          "execution_count": 14,
          "metadata": {},
          "output_type": "execute_result"
        }
      ],
      "source": [
        "sam_data.shape"
      ]
    },
    {
      "cell_type": "markdown",
      "metadata": {
        "id": "zZGot3Sv8rqV"
      },
      "source": [
        "Now we need to perform analysis on the data\n",
        "\n",
        "I use to analysis this in various formats\n",
        "\n",
        "1.Regional analysis\n",
        "2.Custormer analysis\n",
        "3.Product analysis\n",
        "4.Top Products"
      ]
    },
    {
      "cell_type": "code",
      "execution_count": null,
      "metadata": {
        "id": "zD4N_BXE8rqW",
        "outputId": "4fdc0311-2193-4650-c68a-76d5994ff75d"
      },
      "outputs": [
        {
          "data": {
            "image/png": "[encoded data removed]",
            "text/plain": [
              "<Figure size 432x288 with 1 Axes>"
            ]
          },
          "metadata": {},
          "output_type": "display_data"
        }
      ],
      "source": [
        "# To check maximum transactions made region wise\n",
        "\n",
        "sam_data.Region.value_counts().plot.pie(autopct=\"%.1f%%\")\n",
        "pltcc.show()"
      ]
    },
    {
      "cell_type": "markdown",
      "metadata": {
        "id": "ar2l8QcR8rqW"
      },
      "source": [
        "We need to check out the region wise transactions. It should be plot in pie chart for better understanding. Clearly we can see that west side (32%), East (28.5%) central (23.2%) south (16.2%) transactions done."
      ]
    },
    {
      "cell_type": "code",
      "execution_count": null,
      "metadata": {
        "id": "6QozPR0I8rqX",
        "outputId": "1e5aa67a-6f5e-4fe6-f39a-85d7dfc814ef"
      },
      "outputs": [
        {
          "data": {
            "text/plain": [
              "<function matplotlib.pyplot.show(*args, **kw)>"
            ]
          },
          "execution_count": 23,
          "metadata": {},
          "output_type": "execute_result"
        },
        {
          "data": {
            "image/png": "[encoded data removed]",
            "text/plain": [
              "<Figure size 432x288 with 1 Axes>"
            ]
          },
          "metadata": {
            "needs_background": "light"
          },
          "output_type": "display_data"
        }
      ],
      "source": [
        "sam_data.groupby('Region')['Sales','Profit'].sum().plot.bar(color='ky')\n",
        "pltcc.title('SALES AND PROFITS IN EACH REGION')\n",
        "pltcc.legend()\n",
        "pltcc.show"
      ]
    },
    {
      "cell_type": "markdown",
      "metadata": {
        "id": "ZjfzAafE8rqX"
      },
      "source": [
        "Now the bar plot shows the regional wise data of sales and profits. In west side sales is more and profit is more\n",
        "\n",
        "whereas central have more sales with less profits"
      ]
    },
    {
      "cell_type": "code",
      "execution_count": null,
      "metadata": {
        "id": "QihyvzaZ8rqY",
        "outputId": "1527a92e-0838-4510-f9d9-b82b73c5573f"
      },
      "outputs": [
        {
          "data": {
            "image/png": "[encoded data removed]",
            "text/plain": [
              "<Figure size 432x288 with 1 Axes>"
            ]
          },
          "metadata": {
            "needs_background": "light"
          },
          "output_type": "display_data"
        }
      ],
      "source": [
        "# To check maximum Sales and Profit in each segment\n",
        "\n",
        "sam_data.groupby('Segment')['Sales','Profit'].sum().plot.bar(color=['green','yellow'])\n",
        "pltcc.title('SALES AND PROFIT IN EACH SEGMENT')\n",
        "pltcc.legend()\n",
        "pltcc.show()"
      ]
    },
    {
      "cell_type": "markdown",
      "metadata": {
        "id": "ttHPtOgJ8rqZ"
      },
      "source": [
        "In the dataset we have segments [Consumer, Corporate, Home office]\n",
        "\n",
        "Again we need to gorup them with sales and profits\n",
        "\n",
        "bar plot shows consumer segment holds nore sales and more profits\n",
        "\n",
        "home office shows less among three"
      ]
    },
    {
      "cell_type": "code",
      "execution_count": null,
      "metadata": {
        "id": "Hisb03cA8rqa",
        "outputId": "ca307798-b572-4605-fc92-354fe6df759e"
      },
      "outputs": [
        {
          "data": {
            "image/png": "[encoded data removed]",
            "text/plain": [
              "<Figure size 432x288 with 1 Axes>"
            ]
          },
          "metadata": {
            "needs_background": "light"
          },
          "output_type": "display_data"
        }
      ],
      "source": [
        "sns.countplot(x='Segment' , hue='Ship Mode' , data=sam_data)\n",
        "pltcc.show()"
      ]
    },
    {
      "cell_type": "markdown",
      "metadata": {
        "id": "e7sUST1F8rqb"
      },
      "source": [
        "Countplot from seaborn library plots the data with segments and ship mode of the materials."
      ]
    },
    {
      "cell_type": "code",
      "execution_count": null,
      "metadata": {
        "id": "9ilgJsXv8rqb",
        "outputId": "13ece4d3-5495-4218-d7a2-dda591aaa6c5"
      },
      "outputs": [
        {
          "data": {
            "image/png": "[encoded data removed]",
            "text/plain": [
              "<Figure size 432x288 with 1 Axes>"
            ]
          },
          "metadata": {
            "needs_background": "light"
          },
          "output_type": "display_data"
        }
      ],
      "source": [
        "sam_data.groupby('Category')['Sales','Profit'].sum().plot.bar()\n",
        "pltcc.title('PROFIT AND SALES CATEGORY WISE')\n",
        "pltcc.legend(loc = 1)\n",
        "pltcc.show()"
      ]
    },
    {
      "cell_type": "code",
      "execution_count": null,
      "metadata": {
        "id": "jArjlfFt8rqc",
        "outputId": "c5be2052-3c07-4367-a8ed-7e62fc144cbd"
      },
      "outputs": [
        {
          "data": {
            "image/png": "[encoded data removed]",
            "text/plain": [
              "<Figure size 432x288 with 1 Axes>"
            ]
          },
          "metadata": {
            "needs_background": "light"
          },
          "output_type": "display_data"
        }
      ],
      "source": [
        "sam_data[sam_data['Category'] == 'Furniture'].groupby('Sub-Category')['Sales','Profit'].sum().plot.bar(color = ['gray','red'])\n",
        "pltcc.title('SALES AND PROFIT FURNITURE CATEGORY WISE ')\n",
        "pltcc.legend(loc = 1)\n",
        "pltcc.show()"
      ]
    },
    {
      "cell_type": "markdown",
      "metadata": {
        "id": "7rJpTqlr8rqd"
      },
      "source": [
        "now we need to guess the problem behind the low profits in furniture category\n",
        "\n",
        "to know that we need to plot the sub category values and their sales and profits\n",
        "\n",
        "Through the bar plot we clearly know that Tables and Bookcases produces loss to the stores\n",
        "\n",
        "Fumishings also shows low profits\n",
        "\n",
        "What could be the reason for losses in tables and bookcases?\n",
        "\n",
        "Yes, It may be the affect of discounts in that category.Let's see the discounts of that individual items"
      ]
    },
    {
      "cell_type": "code",
      "execution_count": null,
      "metadata": {
        "id": "zybYt5cC8rqd",
        "outputId": "b0858860-b51a-4200-ccfb-37bc7db385fd"
      },
      "outputs": [
        {
          "data": {
            "image/png": "[encoded data removed]",
            "text/plain": [
              "<Figure size 432x288 with 1 Axes>"
            ]
          },
          "metadata": {
            "needs_background": "light"
          },
          "output_type": "display_data"
        }
      ],
      "source": [
        "sam_data[sam_data['Category'] == 'Furniture'].groupby('Sub-Category')['Discount'].mean().plot.bar(color =['Orange'])\n",
        "pltcc.title('DISCOUNT GIVEN IN FURNITURE CATEGORY')\n",
        "pltcc.legend(loc = 0)\n",
        "pltcc.show()"
      ]
    },
    {
      "cell_type": "markdown",
      "metadata": {
        "id": "tfHnZYD48rqe"
      },
      "source": [
        "Here Tables and Bookcases are sellings under huge discounts. So our store bearing losses in this category"
      ]
    },
    {
      "cell_type": "code",
      "execution_count": null,
      "metadata": {
        "id": "5Q_tGd4T8rqg",
        "outputId": "7f18502b-c818-4550-84f3-6ba537fb94c5"
      },
      "outputs": [
        {
          "data": {
            "text/html": [
              "<div>\n",
              "<style scoped>\n",
              "    .dataframe tbody tr th:only-of-type {\n",
              "        vertical-align: middle;\n",
              "    }\n",
              "\n",
              "    .dataframe tbody tr th {\n",
              "        vertical-align: top;\n",
              "    }\n",
              "\n",
              "    .dataframe thead th {\n",
              "        text-align: right;\n",
              "    }\n",
              "</style>\n",
              "<table border=\"1\" class=\"dataframe\">\n",
              "  <thead>\n",
              "    <tr style=\"text-align: right;\">\n",
              "      <th></th>\n",
              "      <th>Postal Code</th>\n",
              "      <th>Sales</th>\n",
              "      <th>Quantity</th>\n",
              "      <th>Discount</th>\n",
              "      <th>Profit</th>\n",
              "    </tr>\n",
              "  </thead>\n",
              "  <tbody>\n",
              "    <tr>\n",
              "      <td>Postal Code</td>\n",
              "      <td>1.000000</td>\n",
              "      <td>-0.023476</td>\n",
              "      <td>0.013110</td>\n",
              "      <td>0.059225</td>\n",
              "      <td>-0.029892</td>\n",
              "    </tr>\n",
              "    <tr>\n",
              "      <td>Sales</td>\n",
              "      <td>-0.023476</td>\n",
              "      <td>1.000000</td>\n",
              "      <td>0.200722</td>\n",
              "      <td>-0.028311</td>\n",
              "      <td>0.479067</td>\n",
              "    </tr>\n",
              "    <tr>\n",
              "      <td>Quantity</td>\n",
              "      <td>0.013110</td>\n",
              "      <td>0.200722</td>\n",
              "      <td>1.000000</td>\n",
              "      <td>0.008678</td>\n",
              "      <td>0.066211</td>\n",
              "    </tr>\n",
              "    <tr>\n",
              "      <td>Discount</td>\n",
              "      <td>0.059225</td>\n",
              "      <td>-0.028311</td>\n",
              "      <td>0.008678</td>\n",
              "      <td>1.000000</td>\n",
              "      <td>-0.219662</td>\n",
              "    </tr>\n",
              "    <tr>\n",
              "      <td>Profit</td>\n",
              "      <td>-0.029892</td>\n",
              "      <td>0.479067</td>\n",
              "      <td>0.066211</td>\n",
              "      <td>-0.219662</td>\n",
              "      <td>1.000000</td>\n",
              "    </tr>\n",
              "  </tbody>\n",
              "</table>\n",
              "</div>"
            ],
            "text/plain": [
              "             Postal Code     Sales  Quantity  Discount    Profit\n",
              "Postal Code     1.000000 -0.023476  0.013110  0.059225 -0.029892\n",
              "Sales          -0.023476  1.000000  0.200722 -0.028311  0.479067\n",
              "Quantity        0.013110  0.200722  1.000000  0.008678  0.066211\n",
              "Discount        0.059225 -0.028311  0.008678  1.000000 -0.219662\n",
              "Profit         -0.029892  0.479067  0.066211 -0.219662  1.000000"
            ]
          },
          "execution_count": 33,
          "metadata": {},
          "output_type": "execute_result"
        }
      ],
      "source": [
        "sam_data.corr()"
      ]
    },
    {
      "cell_type": "code",
      "execution_count": null,
      "metadata": {
        "id": "Njs_9O4G8rqg",
        "outputId": "eedeafeb-08f3-4d04-b4c9-19a0b7c37aa1"
      },
      "outputs": [
        {
          "data": {
            "image/png": "[encoded data removed]",
            "text/plain": [
              "<Figure size 432x288 with 2 Axes>"
            ]
          },
          "metadata": {
            "needs_background": "light"
          },
          "output_type": "display_data"
        }
      ],
      "source": [
        "sns.heatmap(sam_data.corr(),annot=True , cmap= 'GnBu')\n",
        "pltcc.show()"
      ]
    },
    {
      "cell_type": "markdown",
      "metadata": {
        "id": "te9Ox3yJ8rqh"
      },
      "source": [
        "Now this correlation graph shows that which region is getting more discounts."
      ]
    },
    {
      "cell_type": "code",
      "execution_count": null,
      "metadata": {
        "id": "KL2flSDn8rqi",
        "outputId": "607592b3-0d46-4adf-a443-730cf47b518f"
      },
      "outputs": [
        {
          "data": {
            "image/png": "[encoded data removed]",
            "text/plain": [
              "<Figure size 720x360 with 2 Axes>"
            ]
          },
          "metadata": {},
          "output_type": "display_data"
        }
      ],
      "source": [
        "pltcc.style.use('seaborn')\n",
        "sam_data.plot(kind = 'scatter', figsize = (10,5) , x = 'Sales', y='Profit', c = 'Discount' , s = 20 , fontsize = 16 , colormap = 'YlOrRd')\n",
        "pltcc.ylabel('TOTAL PROFITS', fontsize = 16)\n",
        "pltcc.title('DEPENDENCY OF SALES AND PROFIT ON DISCOUNT' , fontsize = 16)\n",
        "pltcc.show()"
      ]
    },
    {
      "cell_type": "markdown",
      "metadata": {
        "id": "UzCzb5pd8rqi"
      },
      "source": [
        "This Graph clearly showing that less discounts leads to more profits"
      ]
    },
    {
      "cell_type": "code",
      "execution_count": null,
      "metadata": {
        "id": "Ihsg5-wp8rqj",
        "outputId": "b1a5494e-eff8-4e53-bf18-409206a58fb7"
      },
      "outputs": [
        {
          "data": {
            "image/png": "[encoded data removed]",
            "text/plain": [
              "<Figure size 576x396 with 1 Axes>"
            ]
          },
          "metadata": {},
          "output_type": "display_data"
        }
      ],
      "source": [
        "sam_data.groupby('Sub-Category')['Sales'].sum().sort_values(ascending=False).plot.bar(color = 'black')\n",
        "pltcc.show()"
      ]
    },
    {
      "cell_type": "markdown",
      "metadata": {
        "id": "z802O7gJ8rqm"
      },
      "source": [
        "In sub categories [sales]\n",
        "\n",
        "More sales\n",
        "\n",
        "    Phones\n",
        "\n",
        "    chairs\n",
        "\n",
        "Less sales\n",
        "\n",
        "     Fasteners\n",
        "     Lables etc."
      ]
    },
    {
      "cell_type": "code",
      "execution_count": null,
      "metadata": {
        "id": "aSwLuWBh8rqm",
        "outputId": "80d49f60-e69b-4941-c8ac-67ec14212f63"
      },
      "outputs": [
        {
          "data": {
            "image/png": "[encoded data removed]",
            "text/plain": [
              "<Figure size 576x396 with 1 Axes>"
            ]
          },
          "metadata": {},
          "output_type": "display_data"
        }
      ],
      "source": [
        "sam_data.groupby('Sub-Category')['Profit'].sum().sort_values(ascending = False).plot.bar(color = 'green')\n",
        "pltcc.show()"
      ]
    },
    {
      "cell_type": "markdown",
      "metadata": {
        "id": "SntY2eeN8rqn"
      },
      "source": [
        "In sub categories [Profits]\n",
        "\n",
        "More profits\n",
        "\n",
        "         Copiers\n",
        "    \n",
        "         Phones\n",
        "        \n",
        "         Accessories\n",
        "            \n",
        "Loss\n",
        "\n",
        "         Tables\n",
        "    \n",
        "         Backcases\n",
        "        \n",
        "         Slippers"
      ]
    },
    {
      "cell_type": "markdown",
      "metadata": {
        "id": "wZHy70Il8rqo"
      },
      "source": [
        "# Outcomes"
      ]
    },
    {
      "cell_type": "markdown",
      "metadata": {
        "id": "S6xEsBUN8rqo"
      },
      "source": [
        "West Region made MAX transactions\n",
        "\n",
        "Sales are MAX in west region\n",
        "\n",
        "Profits are MAX in west region\n",
        "\n",
        "Sales and Profits are MAX in consumer segment\n",
        "\n",
        "Pos Corr: Profit and sales\n",
        "\n",
        "Neg corr: Profit and discounts\n",
        "\n",
        "More profits with less discounts\n",
        "\n",
        "Furniture produces less profits to the store\n",
        "\n",
        "Tables, slippers and backcases gives loss\n",
        "\n",
        "copiers, phones and accessories produces more profits\n",
        "\n"
      ]
    },
    {
      "cell_type": "markdown",
      "metadata": {
        "id": "C9obnUbr8rqp"
      },
      "source": [
        "# RESULT"
      ]
    },
    {
      "cell_type": "markdown",
      "metadata": {
        "id": "BkFbwLpN8rqp"
      },
      "source": [
        "By the analysis, we can conclude that weak area is furniture. we need to work on to get more profits to super store. In that tables and bookcases are under huge discounts. It need to reduce the discounts inorder to increase the profits for the store"
      ]
    },
    {
      "cell_type": "code",
      "execution_count": null,
      "metadata": {
        "id": "lIjO9ilA8rqp"
      },
      "outputs": [],
      "source": [
        ""
      ]
    }
  ],
  "metadata": {
    "kernelspec": {
      "display_name": "Python 3",
      "language": "python",
      "name": "python3"
    },
    "language_info": {
      "codemirror_mode": {
        "name": "ipython",
        "version": 3
      },
      "file_extension": ".py",
      "mimetype": "text/x-python",
      "name": "python",
      "nbconvert_exporter": "python",
      "pygments_lexer": "ipython3",
      "version": "3.7.4"
    },
    "colab": {
      "name": "SPARK.ipynb",
      "provenance": [],
      "collapsed_sections": [],
      "include_colab_link": true
    }
  },
  "nbformat": 4,
  "nbformat_minor": 0
}